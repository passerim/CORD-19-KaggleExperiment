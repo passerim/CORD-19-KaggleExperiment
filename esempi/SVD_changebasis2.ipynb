{
 "cells": [
  {
   "cell_type": "code",
   "execution_count": 1,
   "metadata": {},
   "outputs": [],
   "source": [
    "import sklearn\n",
    "from sklearn.decomposition import TruncatedSVD, NMF\n",
    "from sklearn.feature_extraction.text import TfidfVectorizer\n",
    "from sklearn.feature_extraction.text import CountVectorizer\n",
    "from sklearn.preprocessing import Normalizer\n",
    "from sklearn import metrics\n",
    "from sklearn.cluster import KMeans, MiniBatchKMeans\n",
    "import pandas as pd\n",
    "import numpy as np\n",
    "%matplotlib inline\n",
    "import matplotlib.pyplot as plt\n",
    "import json, csv\n",
    "import math, re\n",
    "from scipy import sparse, linalg"
   ]
  },
  {
   "cell_type": "code",
   "execution_count": 2,
   "metadata": {},
   "outputs": [],
   "source": [
    "pd.set_option('display.float_format', lambda x: '%.4f' % x)\n",
    "np.set_printoptions(suppress=True)"
   ]
  },
  {
   "cell_type": "code",
   "execution_count": 3,
   "metadata": {},
   "outputs": [
    {
     "data": {
      "text/html": [
       "<div>\n",
       "<style scoped>\n",
       "    .dataframe tbody tr th:only-of-type {\n",
       "        vertical-align: middle;\n",
       "    }\n",
       "\n",
       "    .dataframe tbody tr th {\n",
       "        vertical-align: top;\n",
       "    }\n",
       "\n",
       "    .dataframe thead th {\n",
       "        text-align: right;\n",
       "    }\n",
       "</style>\n",
       "<table border=\"1\" class=\"dataframe\">\n",
       "  <thead>\n",
       "    <tr style=\"text-align: right;\">\n",
       "      <th></th>\n",
       "      <th>cool</th>\n",
       "      <th>data</th>\n",
       "      <th>football</th>\n",
       "      <th>fun</th>\n",
       "      <th>great</th>\n",
       "      <th>learning</th>\n",
       "      <th>like</th>\n",
       "      <th>machine</th>\n",
       "      <th>python</th>\n",
       "      <th>science</th>\n",
       "      <th>statistics</th>\n",
       "      <th>super</th>\n",
       "      <th>watch</th>\n",
       "    </tr>\n",
       "  </thead>\n",
       "  <tbody>\n",
       "    <tr>\n",
       "      <td>Machine learning is super fun</td>\n",
       "      <td>0</td>\n",
       "      <td>0</td>\n",
       "      <td>0</td>\n",
       "      <td>1</td>\n",
       "      <td>0</td>\n",
       "      <td>1</td>\n",
       "      <td>0</td>\n",
       "      <td>1</td>\n",
       "      <td>0</td>\n",
       "      <td>0</td>\n",
       "      <td>0</td>\n",
       "      <td>1</td>\n",
       "      <td>0</td>\n",
       "    </tr>\n",
       "    <tr>\n",
       "      <td>Python is super super cool</td>\n",
       "      <td>1</td>\n",
       "      <td>0</td>\n",
       "      <td>0</td>\n",
       "      <td>0</td>\n",
       "      <td>0</td>\n",
       "      <td>0</td>\n",
       "      <td>0</td>\n",
       "      <td>0</td>\n",
       "      <td>1</td>\n",
       "      <td>0</td>\n",
       "      <td>0</td>\n",
       "      <td>2</td>\n",
       "      <td>0</td>\n",
       "    </tr>\n",
       "    <tr>\n",
       "      <td>Statistics is cool too</td>\n",
       "      <td>1</td>\n",
       "      <td>0</td>\n",
       "      <td>0</td>\n",
       "      <td>0</td>\n",
       "      <td>0</td>\n",
       "      <td>0</td>\n",
       "      <td>0</td>\n",
       "      <td>0</td>\n",
       "      <td>0</td>\n",
       "      <td>0</td>\n",
       "      <td>1</td>\n",
       "      <td>0</td>\n",
       "      <td>0</td>\n",
       "    </tr>\n",
       "    <tr>\n",
       "      <td>Python is great for machine learning</td>\n",
       "      <td>0</td>\n",
       "      <td>0</td>\n",
       "      <td>0</td>\n",
       "      <td>0</td>\n",
       "      <td>1</td>\n",
       "      <td>1</td>\n",
       "      <td>0</td>\n",
       "      <td>1</td>\n",
       "      <td>1</td>\n",
       "      <td>0</td>\n",
       "      <td>0</td>\n",
       "      <td>0</td>\n",
       "      <td>0</td>\n",
       "    </tr>\n",
       "    <tr>\n",
       "      <td>Data science is fun</td>\n",
       "      <td>0</td>\n",
       "      <td>1</td>\n",
       "      <td>0</td>\n",
       "      <td>1</td>\n",
       "      <td>0</td>\n",
       "      <td>0</td>\n",
       "      <td>0</td>\n",
       "      <td>0</td>\n",
       "      <td>0</td>\n",
       "      <td>1</td>\n",
       "      <td>0</td>\n",
       "      <td>0</td>\n",
       "      <td>0</td>\n",
       "    </tr>\n",
       "    <tr>\n",
       "      <td>I like football</td>\n",
       "      <td>0</td>\n",
       "      <td>0</td>\n",
       "      <td>1</td>\n",
       "      <td>0</td>\n",
       "      <td>0</td>\n",
       "      <td>0</td>\n",
       "      <td>1</td>\n",
       "      <td>0</td>\n",
       "      <td>0</td>\n",
       "      <td>0</td>\n",
       "      <td>0</td>\n",
       "      <td>0</td>\n",
       "      <td>0</td>\n",
       "    </tr>\n",
       "    <tr>\n",
       "      <td>Football is great to watch</td>\n",
       "      <td>0</td>\n",
       "      <td>0</td>\n",
       "      <td>1</td>\n",
       "      <td>0</td>\n",
       "      <td>1</td>\n",
       "      <td>0</td>\n",
       "      <td>0</td>\n",
       "      <td>0</td>\n",
       "      <td>0</td>\n",
       "      <td>0</td>\n",
       "      <td>0</td>\n",
       "      <td>0</td>\n",
       "      <td>1</td>\n",
       "    </tr>\n",
       "  </tbody>\n",
       "</table>\n",
       "</div>"
      ],
      "text/plain": [
       "                                      cool  data  football  fun  great  \\\n",
       "Machine learning is super fun            0     0         0    1      0   \n",
       "Python is super super cool               1     0         0    0      0   \n",
       "Statistics is cool too                   1     0         0    0      0   \n",
       "Python is great for machine learning     0     0         0    0      1   \n",
       "Data science is fun                      0     1         0    1      0   \n",
       "I like football                          0     0         1    0      0   \n",
       "Football is great to watch               0     0         1    0      1   \n",
       "\n",
       "                                      learning  like  machine  python  \\\n",
       "Machine learning is super fun                1     0        1       0   \n",
       "Python is super super cool                   0     0        0       1   \n",
       "Statistics is cool too                       0     0        0       0   \n",
       "Python is great for machine learning         1     0        1       1   \n",
       "Data science is fun                          0     0        0       0   \n",
       "I like football                              0     1        0       0   \n",
       "Football is great to watch                   0     0        0       0   \n",
       "\n",
       "                                      science  statistics  super  watch  \n",
       "Machine learning is super fun               0           0      1      0  \n",
       "Python is super super cool                  0           0      2      0  \n",
       "Statistics is cool too                      0           1      0      0  \n",
       "Python is great for machine learning        0           0      0      0  \n",
       "Data science is fun                         1           0      0      0  \n",
       "I like football                             0           0      0      0  \n",
       "Football is great to watch                  0           0      0      1  "
      ]
     },
     "execution_count": 3,
     "metadata": {},
     "output_type": "execute_result"
    }
   ],
   "source": [
    "example = [\"Machine learning is super fun\",\n",
    "\"Python is super super cool\",\n",
    "\"Statistics is cool too\",\n",
    "\"Python is great for machine learning\",\n",
    "\"Data science is fun\",\n",
    "\"I like football\",\n",
    "\"Football is great to watch\"]\n",
    "vectorizer = CountVectorizer(stop_words = 'english', ngram_range=(1,1))\n",
    "dtm = vectorizer.fit_transform(example)\n",
    "pd.DataFrame(dtm.toarray(),index=example,columns=vectorizer.get_feature_names())"
   ]
  },
  {
   "cell_type": "code",
   "execution_count": 4,
   "metadata": {},
   "outputs": [],
   "source": [
    "def create_dtm_pmi_matrix(dtm_matrix):\n",
    "    dtm_pmi_matrix = np.zeros(dtm_matrix.shape)\n",
    "    for i in range(0,dtm_matrix.shape[0]):\n",
    "        for j in range(0,dtm_matrix.shape[1]):\n",
    "            dtm_pmi_matrix[i,j] = np.log2(1+(dtm_matrix[i,j]/np.sum(dtm_matrix, axis=0)[j])/(np.sum(dtm_matrix, axis=1)[i]/np.sum(dtm_matrix))) + np.log2(3)\n",
    "    return dtm_pmi_matrix"
   ]
  },
  {
   "cell_type": "code",
   "execution_count": 5,
   "metadata": {},
   "outputs": [],
   "source": [
    "def create_cooccurrence_matrix(filename, dictionary):\n",
    "    vocabulary={token: pos for pos, token in enumerate(dictionary)}\n",
    "    data=[]\n",
    "    row=[]\n",
    "    col=[]\n",
    "    for sentence in filename:\n",
    "        sentence=sentence.lower()\n",
    "        sentence=sentence.split()\n",
    "        tokens=[token for token in sentence if token!=u\"\" and token in list(dictionary.keys())]\n",
    "        for pos,token in enumerate(tokens):\n",
    "            i=vocabulary.setdefault(token,len(vocabulary))\n",
    "            start=0\n",
    "            end=len(tokens)\n",
    "            for pos2 in range(start,end,1):\n",
    "                if pos2==pos: \n",
    "                    continue\n",
    "                j=vocabulary.setdefault(tokens[pos2],len(vocabulary))\n",
    "                data.append(1.); row.append(i); col.append(j);\n",
    "    cooccurrence_matrix=sparse.coo_matrix((data,(row,col)))\n",
    "    return cooccurrence_matrix"
   ]
  },
  {
   "cell_type": "code",
   "execution_count": 6,
   "metadata": {},
   "outputs": [],
   "source": [
    "M = create_cooccurrence_matrix(example, {name: list([]) for name  in vectorizer.get_feature_names()})"
   ]
  },
  {
   "cell_type": "code",
   "execution_count": 7,
   "metadata": {},
   "outputs": [],
   "source": [
    "pd.DataFrame(M.toarray(),index=vectorizer.get_feature_names(),columns=vectorizer.get_feature_names());"
   ]
  },
  {
   "cell_type": "code",
   "execution_count": 8,
   "metadata": {},
   "outputs": [],
   "source": [
    "coo_pmi_matrix = create_dtm_pmi_matrix(M.toarray())"
   ]
  },
  {
   "cell_type": "code",
   "execution_count": 9,
   "metadata": {},
   "outputs": [
    {
     "data": {
      "text/html": [
       "<div>\n",
       "<style scoped>\n",
       "    .dataframe tbody tr th:only-of-type {\n",
       "        vertical-align: middle;\n",
       "    }\n",
       "\n",
       "    .dataframe tbody tr th {\n",
       "        vertical-align: top;\n",
       "    }\n",
       "\n",
       "    .dataframe thead th {\n",
       "        text-align: right;\n",
       "    }\n",
       "</style>\n",
       "<table border=\"1\" class=\"dataframe\">\n",
       "  <thead>\n",
       "    <tr style=\"text-align: right;\">\n",
       "      <th></th>\n",
       "      <th>cool</th>\n",
       "      <th>data</th>\n",
       "      <th>football</th>\n",
       "      <th>fun</th>\n",
       "      <th>great</th>\n",
       "      <th>learning</th>\n",
       "      <th>like</th>\n",
       "      <th>machine</th>\n",
       "      <th>python</th>\n",
       "      <th>science</th>\n",
       "      <th>statistics</th>\n",
       "      <th>super</th>\n",
       "      <th>watch</th>\n",
       "    </tr>\n",
       "  </thead>\n",
       "  <tbody>\n",
       "    <tr>\n",
       "      <td>cool</td>\n",
       "      <td>1.5850</td>\n",
       "      <td>1.5850</td>\n",
       "      <td>1.5850</td>\n",
       "      <td>1.5850</td>\n",
       "      <td>1.5850</td>\n",
       "      <td>1.5850</td>\n",
       "      <td>1.5850</td>\n",
       "      <td>1.5850</td>\n",
       "      <td>3.2479</td>\n",
       "      <td>1.5850</td>\n",
       "      <td>5.3923</td>\n",
       "      <td>3.5443</td>\n",
       "      <td>1.5850</td>\n",
       "    </tr>\n",
       "    <tr>\n",
       "      <td>data</td>\n",
       "      <td>1.5850</td>\n",
       "      <td>1.5850</td>\n",
       "      <td>1.5850</td>\n",
       "      <td>4.2172</td>\n",
       "      <td>1.5850</td>\n",
       "      <td>1.5850</td>\n",
       "      <td>1.5850</td>\n",
       "      <td>1.5850</td>\n",
       "      <td>1.5850</td>\n",
       "      <td>5.3923</td>\n",
       "      <td>1.5850</td>\n",
       "      <td>1.5850</td>\n",
       "      <td>1.5850</td>\n",
       "    </tr>\n",
       "    <tr>\n",
       "      <td>football</td>\n",
       "      <td>1.5850</td>\n",
       "      <td>1.5850</td>\n",
       "      <td>1.5850</td>\n",
       "      <td>1.5850</td>\n",
       "      <td>3.7442</td>\n",
       "      <td>1.5850</td>\n",
       "      <td>5.7814</td>\n",
       "      <td>1.5850</td>\n",
       "      <td>1.5850</td>\n",
       "      <td>1.5850</td>\n",
       "      <td>1.5850</td>\n",
       "      <td>1.5850</td>\n",
       "      <td>4.8580</td>\n",
       "    </tr>\n",
       "    <tr>\n",
       "      <td>fun</td>\n",
       "      <td>1.5850</td>\n",
       "      <td>4.2172</td>\n",
       "      <td>1.5850</td>\n",
       "      <td>1.5850</td>\n",
       "      <td>1.5850</td>\n",
       "      <td>3.0356</td>\n",
       "      <td>1.5850</td>\n",
       "      <td>3.0356</td>\n",
       "      <td>1.5850</td>\n",
       "      <td>4.2172</td>\n",
       "      <td>1.5850</td>\n",
       "      <td>2.6930</td>\n",
       "      <td>1.5850</td>\n",
       "    </tr>\n",
       "    <tr>\n",
       "      <td>great</td>\n",
       "      <td>1.5850</td>\n",
       "      <td>1.5850</td>\n",
       "      <td>3.7442</td>\n",
       "      <td>1.5850</td>\n",
       "      <td>1.5850</td>\n",
       "      <td>3.0356</td>\n",
       "      <td>1.5850</td>\n",
       "      <td>3.0356</td>\n",
       "      <td>3.0356</td>\n",
       "      <td>1.5850</td>\n",
       "      <td>1.5850</td>\n",
       "      <td>1.5850</td>\n",
       "      <td>4.2172</td>\n",
       "    </tr>\n",
       "    <tr>\n",
       "      <td>learning</td>\n",
       "      <td>1.5850</td>\n",
       "      <td>1.5850</td>\n",
       "      <td>1.5850</td>\n",
       "      <td>3.0356</td>\n",
       "      <td>3.0356</td>\n",
       "      <td>1.5850</td>\n",
       "      <td>1.5850</td>\n",
       "      <td>3.5443</td>\n",
       "      <td>2.8745</td>\n",
       "      <td>1.5850</td>\n",
       "      <td>1.5850</td>\n",
       "      <td>2.5580</td>\n",
       "      <td>1.5850</td>\n",
       "    </tr>\n",
       "    <tr>\n",
       "      <td>like</td>\n",
       "      <td>1.5850</td>\n",
       "      <td>1.5850</td>\n",
       "      <td>5.7814</td>\n",
       "      <td>1.5850</td>\n",
       "      <td>1.5850</td>\n",
       "      <td>1.5850</td>\n",
       "      <td>1.5850</td>\n",
       "      <td>1.5850</td>\n",
       "      <td>1.5850</td>\n",
       "      <td>1.5850</td>\n",
       "      <td>1.5850</td>\n",
       "      <td>1.5850</td>\n",
       "      <td>1.5850</td>\n",
       "    </tr>\n",
       "    <tr>\n",
       "      <td>machine</td>\n",
       "      <td>1.5850</td>\n",
       "      <td>1.5850</td>\n",
       "      <td>1.5850</td>\n",
       "      <td>3.0356</td>\n",
       "      <td>3.0356</td>\n",
       "      <td>3.5443</td>\n",
       "      <td>1.5850</td>\n",
       "      <td>1.5850</td>\n",
       "      <td>2.8745</td>\n",
       "      <td>1.5850</td>\n",
       "      <td>1.5850</td>\n",
       "      <td>2.5580</td>\n",
       "      <td>1.5850</td>\n",
       "    </tr>\n",
       "    <tr>\n",
       "      <td>python</td>\n",
       "      <td>3.2479</td>\n",
       "      <td>1.5850</td>\n",
       "      <td>1.5850</td>\n",
       "      <td>1.5850</td>\n",
       "      <td>3.0356</td>\n",
       "      <td>2.8745</td>\n",
       "      <td>1.5850</td>\n",
       "      <td>2.8745</td>\n",
       "      <td>1.5850</td>\n",
       "      <td>1.5850</td>\n",
       "      <td>1.5850</td>\n",
       "      <td>3.1339</td>\n",
       "      <td>1.5850</td>\n",
       "    </tr>\n",
       "    <tr>\n",
       "      <td>science</td>\n",
       "      <td>1.5850</td>\n",
       "      <td>5.3923</td>\n",
       "      <td>1.5850</td>\n",
       "      <td>4.2172</td>\n",
       "      <td>1.5850</td>\n",
       "      <td>1.5850</td>\n",
       "      <td>1.5850</td>\n",
       "      <td>1.5850</td>\n",
       "      <td>1.5850</td>\n",
       "      <td>1.5850</td>\n",
       "      <td>1.5850</td>\n",
       "      <td>1.5850</td>\n",
       "      <td>1.5850</td>\n",
       "    </tr>\n",
       "    <tr>\n",
       "      <td>statistics</td>\n",
       "      <td>5.3923</td>\n",
       "      <td>1.5850</td>\n",
       "      <td>1.5850</td>\n",
       "      <td>1.5850</td>\n",
       "      <td>1.5850</td>\n",
       "      <td>1.5850</td>\n",
       "      <td>1.5850</td>\n",
       "      <td>1.5850</td>\n",
       "      <td>1.5850</td>\n",
       "      <td>1.5850</td>\n",
       "      <td>1.5850</td>\n",
       "      <td>1.5850</td>\n",
       "      <td>1.5850</td>\n",
       "    </tr>\n",
       "    <tr>\n",
       "      <td>super</td>\n",
       "      <td>3.5443</td>\n",
       "      <td>1.5850</td>\n",
       "      <td>1.5850</td>\n",
       "      <td>2.6930</td>\n",
       "      <td>1.5850</td>\n",
       "      <td>2.5580</td>\n",
       "      <td>1.5850</td>\n",
       "      <td>2.5580</td>\n",
       "      <td>3.1339</td>\n",
       "      <td>1.5850</td>\n",
       "      <td>1.5850</td>\n",
       "      <td>2.7765</td>\n",
       "      <td>1.5850</td>\n",
       "    </tr>\n",
       "    <tr>\n",
       "      <td>watch</td>\n",
       "      <td>1.5850</td>\n",
       "      <td>1.5850</td>\n",
       "      <td>4.8580</td>\n",
       "      <td>1.5850</td>\n",
       "      <td>4.2172</td>\n",
       "      <td>1.5850</td>\n",
       "      <td>1.5850</td>\n",
       "      <td>1.5850</td>\n",
       "      <td>1.5850</td>\n",
       "      <td>1.5850</td>\n",
       "      <td>1.5850</td>\n",
       "      <td>1.5850</td>\n",
       "      <td>1.5850</td>\n",
       "    </tr>\n",
       "  </tbody>\n",
       "</table>\n",
       "</div>"
      ],
      "text/plain": [
       "             cool   data  football    fun  great  learning   like  machine  \\\n",
       "cool       1.5850 1.5850    1.5850 1.5850 1.5850    1.5850 1.5850   1.5850   \n",
       "data       1.5850 1.5850    1.5850 4.2172 1.5850    1.5850 1.5850   1.5850   \n",
       "football   1.5850 1.5850    1.5850 1.5850 3.7442    1.5850 5.7814   1.5850   \n",
       "fun        1.5850 4.2172    1.5850 1.5850 1.5850    3.0356 1.5850   3.0356   \n",
       "great      1.5850 1.5850    3.7442 1.5850 1.5850    3.0356 1.5850   3.0356   \n",
       "learning   1.5850 1.5850    1.5850 3.0356 3.0356    1.5850 1.5850   3.5443   \n",
       "like       1.5850 1.5850    5.7814 1.5850 1.5850    1.5850 1.5850   1.5850   \n",
       "machine    1.5850 1.5850    1.5850 3.0356 3.0356    3.5443 1.5850   1.5850   \n",
       "python     3.2479 1.5850    1.5850 1.5850 3.0356    2.8745 1.5850   2.8745   \n",
       "science    1.5850 5.3923    1.5850 4.2172 1.5850    1.5850 1.5850   1.5850   \n",
       "statistics 5.3923 1.5850    1.5850 1.5850 1.5850    1.5850 1.5850   1.5850   \n",
       "super      3.5443 1.5850    1.5850 2.6930 1.5850    2.5580 1.5850   2.5580   \n",
       "watch      1.5850 1.5850    4.8580 1.5850 4.2172    1.5850 1.5850   1.5850   \n",
       "\n",
       "            python  science  statistics  super  watch  \n",
       "cool        3.2479   1.5850      5.3923 3.5443 1.5850  \n",
       "data        1.5850   5.3923      1.5850 1.5850 1.5850  \n",
       "football    1.5850   1.5850      1.5850 1.5850 4.8580  \n",
       "fun         1.5850   4.2172      1.5850 2.6930 1.5850  \n",
       "great       3.0356   1.5850      1.5850 1.5850 4.2172  \n",
       "learning    2.8745   1.5850      1.5850 2.5580 1.5850  \n",
       "like        1.5850   1.5850      1.5850 1.5850 1.5850  \n",
       "machine     2.8745   1.5850      1.5850 2.5580 1.5850  \n",
       "python      1.5850   1.5850      1.5850 3.1339 1.5850  \n",
       "science     1.5850   1.5850      1.5850 1.5850 1.5850  \n",
       "statistics  1.5850   1.5850      1.5850 1.5850 1.5850  \n",
       "super       3.1339   1.5850      1.5850 2.7765 1.5850  \n",
       "watch       1.5850   1.5850      1.5850 1.5850 1.5850  "
      ]
     },
     "execution_count": 9,
     "metadata": {},
     "output_type": "execute_result"
    }
   ],
   "source": [
    "pd.DataFrame(coo_pmi_matrix,index=vectorizer.get_feature_names(),columns=vectorizer.get_feature_names())"
   ]
  },
  {
   "cell_type": "code",
   "execution_count": null,
   "metadata": {},
   "outputs": [],
   "source": []
  },
  {
   "cell_type": "code",
   "execution_count": null,
   "metadata": {},
   "outputs": [],
   "source": []
  },
  {
   "cell_type": "code",
   "execution_count": null,
   "metadata": {},
   "outputs": [],
   "source": []
  },
  {
   "cell_type": "code",
   "execution_count": 10,
   "metadata": {},
   "outputs": [],
   "source": [
    "# Fit LSA. Use algorithm = “randomized” for large datasets\n",
    "wlsa = TruncatedSVD(2, algorithm='arpack')\n",
    "wtm_lsa = wlsa.fit_transform(coo_pmi_matrix)"
   ]
  },
  {
   "cell_type": "code",
   "execution_count": 11,
   "metadata": {
    "scrolled": true
   },
   "outputs": [
    {
     "data": {
      "text/html": [
       "<div>\n",
       "<style scoped>\n",
       "    .dataframe tbody tr th:only-of-type {\n",
       "        vertical-align: middle;\n",
       "    }\n",
       "\n",
       "    .dataframe tbody tr th {\n",
       "        vertical-align: top;\n",
       "    }\n",
       "\n",
       "    .dataframe thead th {\n",
       "        text-align: right;\n",
       "    }\n",
       "</style>\n",
       "<table border=\"1\" class=\"dataframe\">\n",
       "  <thead>\n",
       "    <tr style=\"text-align: right;\">\n",
       "      <th></th>\n",
       "      <th>cool</th>\n",
       "      <th>data</th>\n",
       "      <th>football</th>\n",
       "      <th>fun</th>\n",
       "      <th>great</th>\n",
       "      <th>learning</th>\n",
       "      <th>like</th>\n",
       "      <th>machine</th>\n",
       "      <th>python</th>\n",
       "      <th>science</th>\n",
       "      <th>statistics</th>\n",
       "      <th>super</th>\n",
       "      <th>watch</th>\n",
       "    </tr>\n",
       "  </thead>\n",
       "  <tbody>\n",
       "    <tr>\n",
       "      <td>component_1</td>\n",
       "      <td>0.2759</td>\n",
       "      <td>0.2711</td>\n",
       "      <td>0.2986</td>\n",
       "      <td>0.2977</td>\n",
       "      <td>0.2983</td>\n",
       "      <td>0.2795</td>\n",
       "      <td>0.2508</td>\n",
       "      <td>0.2795</td>\n",
       "      <td>0.2797</td>\n",
       "      <td>0.2711</td>\n",
       "      <td>0.2435</td>\n",
       "      <td>0.2845</td>\n",
       "      <td>0.2692</td>\n",
       "    </tr>\n",
       "    <tr>\n",
       "      <td>component_2</td>\n",
       "      <td>-0.0748</td>\n",
       "      <td>-0.3693</td>\n",
       "      <td>0.4949</td>\n",
       "      <td>-0.3567</td>\n",
       "      <td>0.2866</td>\n",
       "      <td>-0.0596</td>\n",
       "      <td>0.3224</td>\n",
       "      <td>-0.0596</td>\n",
       "      <td>-0.0132</td>\n",
       "      <td>-0.3693</td>\n",
       "      <td>-0.0470</td>\n",
       "      <td>-0.1334</td>\n",
       "      <td>0.3690</td>\n",
       "    </tr>\n",
       "  </tbody>\n",
       "</table>\n",
       "</div>"
      ],
      "text/plain": [
       "               cool    data  football     fun  great  learning   like  \\\n",
       "component_1  0.2759  0.2711    0.2986  0.2977 0.2983    0.2795 0.2508   \n",
       "component_2 -0.0748 -0.3693    0.4949 -0.3567 0.2866   -0.0596 0.3224   \n",
       "\n",
       "             machine  python  science  statistics   super  watch  \n",
       "component_1   0.2795  0.2797   0.2711      0.2435  0.2845 0.2692  \n",
       "component_2  -0.0596 -0.0132  -0.3693     -0.0470 -0.1334 0.3690  "
      ]
     },
     "execution_count": 11,
     "metadata": {},
     "output_type": "execute_result"
    }
   ],
   "source": [
    "pd.DataFrame(wlsa.components_,index = [\"component_1\",\"component_2\"],columns = vectorizer.get_feature_names())"
   ]
  },
  {
   "cell_type": "code",
   "execution_count": 12,
   "metadata": {},
   "outputs": [
    {
     "data": {
      "text/html": [
       "<div>\n",
       "<style scoped>\n",
       "    .dataframe tbody tr th:only-of-type {\n",
       "        vertical-align: middle;\n",
       "    }\n",
       "\n",
       "    .dataframe tbody tr th {\n",
       "        vertical-align: top;\n",
       "    }\n",
       "\n",
       "    .dataframe thead th {\n",
       "        text-align: right;\n",
       "    }\n",
       "</style>\n",
       "<table border=\"1\" class=\"dataframe\">\n",
       "  <thead>\n",
       "    <tr style=\"text-align: right;\">\n",
       "      <th></th>\n",
       "      <th>component_1</th>\n",
       "      <th>component_2</th>\n",
       "    </tr>\n",
       "  </thead>\n",
       "  <tbody>\n",
       "    <tr>\n",
       "      <td>cool</td>\n",
       "      <td>7.6547</td>\n",
       "      <td>-0.4779</td>\n",
       "    </tr>\n",
       "    <tr>\n",
       "      <td>data</td>\n",
       "      <td>7.5209</td>\n",
       "      <td>-2.3605</td>\n",
       "    </tr>\n",
       "    <tr>\n",
       "      <td>football</td>\n",
       "      <td>8.2827</td>\n",
       "      <td>3.1639</td>\n",
       "    </tr>\n",
       "    <tr>\n",
       "      <td>fun</td>\n",
       "      <td>8.2586</td>\n",
       "      <td>-2.2803</td>\n",
       "    </tr>\n",
       "    <tr>\n",
       "      <td>great</td>\n",
       "      <td>8.2750</td>\n",
       "      <td>1.8321</td>\n",
       "    </tr>\n",
       "    <tr>\n",
       "      <td>learning</td>\n",
       "      <td>7.7548</td>\n",
       "      <td>-0.3810</td>\n",
       "    </tr>\n",
       "    <tr>\n",
       "      <td>like</td>\n",
       "      <td>6.9580</td>\n",
       "      <td>2.0613</td>\n",
       "    </tr>\n",
       "    <tr>\n",
       "      <td>machine</td>\n",
       "      <td>7.7548</td>\n",
       "      <td>-0.3810</td>\n",
       "    </tr>\n",
       "    <tr>\n",
       "      <td>python</td>\n",
       "      <td>7.7582</td>\n",
       "      <td>-0.0846</td>\n",
       "    </tr>\n",
       "    <tr>\n",
       "      <td>science</td>\n",
       "      <td>7.5209</td>\n",
       "      <td>-2.3605</td>\n",
       "    </tr>\n",
       "    <tr>\n",
       "      <td>statistics</td>\n",
       "      <td>6.7556</td>\n",
       "      <td>-0.3003</td>\n",
       "    </tr>\n",
       "    <tr>\n",
       "      <td>super</td>\n",
       "      <td>7.8917</td>\n",
       "      <td>-0.8528</td>\n",
       "    </tr>\n",
       "    <tr>\n",
       "      <td>watch</td>\n",
       "      <td>7.4675</td>\n",
       "      <td>2.3586</td>\n",
       "    </tr>\n",
       "  </tbody>\n",
       "</table>\n",
       "</div>"
      ],
      "text/plain": [
       "            component_1  component_2\n",
       "cool             7.6547      -0.4779\n",
       "data             7.5209      -2.3605\n",
       "football         8.2827       3.1639\n",
       "fun              8.2586      -2.2803\n",
       "great            8.2750       1.8321\n",
       "learning         7.7548      -0.3810\n",
       "like             6.9580       2.0613\n",
       "machine          7.7548      -0.3810\n",
       "python           7.7582      -0.0846\n",
       "science          7.5209      -2.3605\n",
       "statistics       6.7556      -0.3003\n",
       "super            7.8917      -0.8528\n",
       "watch            7.4675       2.3586"
      ]
     },
     "execution_count": 12,
     "metadata": {},
     "output_type": "execute_result"
    }
   ],
   "source": [
    "pd.DataFrame(wtm_lsa,columns = [\"component_1\",\"component_2\"],index = vectorizer.get_feature_names())"
   ]
  },
  {
   "cell_type": "code",
   "execution_count": 13,
   "metadata": {},
   "outputs": [],
   "source": [
    "components = np.transpose(wlsa.components_)\n",
    "components = sklearn.preprocessing.normalize(components, axis=1, norm='l2')"
   ]
  },
  {
   "cell_type": "code",
   "execution_count": 14,
   "metadata": {},
   "outputs": [],
   "source": [
    "Vxs = [w[0] for w in components]\n",
    "Vys = [w[1] for w in components]"
   ]
  },
  {
   "cell_type": "code",
   "execution_count": 15,
   "metadata": {},
   "outputs": [
    {
     "data": {
      "image/png": "[encoded data removed]",
      "text/plain": [
       "<Figure size 432x288 with 1 Axes>"
      ]
     },
     "metadata": {
      "needs_background": "light"
     },
     "output_type": "display_data"
    }
   ],
   "source": [
    "plt.figure()\n",
    "ax = plt.gca()\n",
    "for pos, vec in enumerate(list(zip(Vxs, Vys))[:]):\n",
    "    ax.scatter(vec[0],vec[1])\n",
    "    ax.text(vec[0],vec[1],s=vectorizer.get_feature_names()[pos])\n",
    "plt.xlabel('First principal component')\n",
    "plt.ylabel('Second principal component')\n",
    "plt.title('Plot of Words against LSA principal components')\n",
    "plt.show()"
   ]
  },
  {
   "cell_type": "code",
   "execution_count": 16,
   "metadata": {},
   "outputs": [
    {
     "data": {
      "image/png": "[encoded data removed]",
      "text/plain": [
       "<Figure size 432x288 with 1 Axes>"
      ]
     },
     "metadata": {
      "needs_background": "light"
     },
     "output_type": "display_data"
    },
    {
     "name": "stdout",
     "output_type": "stream",
     "text": [
      "[(0, 'cool'), (1, 'data'), (2, 'football'), (3, 'fun'), (4, 'great'), (5, 'learning'), (6, 'like'), (7, 'machine'), (8, 'python'), (9, 'science'), (10, 'statistics'), (11, 'super'), (12, 'watch')]\n"
     ]
    }
   ],
   "source": [
    "plt.figure()\n",
    "ax = plt.gca()\n",
    "for pos, vec in enumerate(list(zip(Vxs, Vys))[:]):\n",
    "    ax.quiver(0,0,vec[0],vec[1],angles='xy',scale_units='xy',scale=1, linewidth = .01, norm=True)\n",
    "    ax.text(vec[0],vec[1],s=vectorizer.get_feature_names()[pos])\n",
    "ax.set_xlim([-2,2])\n",
    "ax.set_ylim([-2,2])\n",
    "plt.xlabel('First principal component')\n",
    "plt.ylabel('Second principal component')\n",
    "plt.title('Plot of points against LSA principal components')\n",
    "plt.draw()\n",
    "plt.show()\n",
    "print(list(enumerate(vectorizer.get_feature_names())))"
   ]
  },
  {
   "cell_type": "code",
   "execution_count": 17,
   "metadata": {},
   "outputs": [],
   "source": [
    "#Compute vectors similarity using LSA components\n",
    "Vsimilarity = np.asarray(np.asmatrix(components) * np.asmatrix(components).T)\n",
    "pd.DataFrame(Vsimilarity,index=vectorizer.get_feature_names(), columns=vectorizer.get_feature_names());"
   ]
  },
  {
   "cell_type": "code",
   "execution_count": 18,
   "metadata": {},
   "outputs": [],
   "source": [
    "xs = [w[0] for w in wtm_lsa]\n",
    "ys = [w[1] for w in wtm_lsa]\n",
    "xs, ys;"
   ]
  },
  {
   "cell_type": "code",
   "execution_count": 19,
   "metadata": {},
   "outputs": [
    {
     "data": {
      "image/png": "[encoded data removed]",
      "text/plain": [
       "<Figure size 432x288 with 1 Axes>"
      ]
     },
     "metadata": {
      "needs_background": "light"
     },
     "output_type": "display_data"
    }
   ],
   "source": [
    "plt.figure()\n",
    "ax = plt.gca()\n",
    "for pos, vec in enumerate(list(zip(xs, ys))[:]):\n",
    "    ax.scatter(vec[0],vec[1])\n",
    "    ax.text(vec[0],vec[1],s=vectorizer.get_feature_names()[pos])\n",
    "plt.xlabel('First principal component')\n",
    "plt.ylabel('Second principal component')\n",
    "plt.title('Plot of Documents against LSA principal components')\n",
    "plt.show()"
   ]
  },
  {
   "cell_type": "code",
   "execution_count": 20,
   "metadata": {},
   "outputs": [
    {
     "data": {
      "image/png": "[encoded data removed]",
      "text/plain": [
       "<Figure size 432x288 with 1 Axes>"
      ]
     },
     "metadata": {
      "needs_background": "light"
     },
     "output_type": "display_data"
    },
    {
     "name": "stdout",
     "output_type": "stream",
     "text": [
      "[(0, 'cool'), (1, 'data'), (2, 'football'), (3, 'fun'), (4, 'great'), (5, 'learning'), (6, 'like'), (7, 'machine'), (8, 'python'), (9, 'science'), (10, 'statistics'), (11, 'super'), (12, 'watch')]\n"
     ]
    }
   ],
   "source": [
    "plt.figure()\n",
    "ax = plt.gca()\n",
    "for pos, vec in enumerate(list(zip(xs, ys))[:]):\n",
    "    ax.quiver(0,0,vec[0],vec[1],angles='xy',scale_units='xy',scale=1, linewidth = .01)\n",
    "    ax.text(vec[0],vec[1],s=vectorizer.get_feature_names()[pos])\n",
    "ax.set_xlim([-2.5,10])\n",
    "ax.set_ylim([-2.5,5])\n",
    "plt.xlabel('First principal component')\n",
    "plt.ylabel('Second principal component')\n",
    "plt.title('Plot of points against LSA principal components')\n",
    "plt.show()\n",
    "print(list(enumerate(vectorizer.get_feature_names())))"
   ]
  },
  {
   "cell_type": "code",
   "execution_count": 21,
   "metadata": {},
   "outputs": [],
   "source": [
    "W_embeddings = (wtm_lsa + wlsa.components_.T)/2"
   ]
  },
  {
   "cell_type": "code",
   "execution_count": 22,
   "metadata": {},
   "outputs": [
    {
     "data": {
      "image/png": "[encoded data removed]",
      "text/plain": [
       "<Figure size 432x288 with 1 Axes>"
      ]
     },
     "metadata": {
      "needs_background": "light"
     },
     "output_type": "display_data"
    },
    {
     "name": "stdout",
     "output_type": "stream",
     "text": [
      "[(0, 'cool'), (1, 'data'), (2, 'football'), (3, 'fun'), (4, 'great'), (5, 'learning'), (6, 'like'), (7, 'machine'), (8, 'python'), (9, 'science'), (10, 'statistics'), (11, 'super'), (12, 'watch')]\n"
     ]
    }
   ],
   "source": [
    "plt.figure()\n",
    "ax = plt.gca()\n",
    "for pos, vec in enumerate((W_embeddings.tolist())[:]):\n",
    "    ax.quiver(0,0,vec[0],vec[1],angles='xy',scale_units='xy',scale=1, linewidth = .01)\n",
    "    ax.text(vec[0],vec[1],s=vectorizer.get_feature_names()[pos])\n",
    "ax.set_xlim([-2.5,10])\n",
    "ax.set_ylim([-2.5,5])\n",
    "plt.xlabel('First principal component')\n",
    "plt.ylabel('Second principal component')\n",
    "plt.title('Plot of points against LSA principal components')\n",
    "plt.show()\n",
    "print(list(enumerate(vectorizer.get_feature_names())))"
   ]
  },
  {
   "cell_type": "code",
   "execution_count": null,
   "metadata": {},
   "outputs": [],
   "source": []
  },
  {
   "cell_type": "code",
   "execution_count": null,
   "metadata": {},
   "outputs": [],
   "source": []
  },
  {
   "cell_type": "code",
   "execution_count": null,
   "metadata": {},
   "outputs": [],
   "source": []
  },
  {
   "cell_type": "code",
   "execution_count": 23,
   "metadata": {},
   "outputs": [],
   "source": [
    "# Fit LSA. Use algorithm = “randomized” for large datasets\n",
    "lsa = TruncatedSVD(2, algorithm='arpack')\n",
    "dtm_lsa = lsa.fit_transform(create_dtm_pmi_matrix(dtm.toarray().T))"
   ]
  },
  {
   "cell_type": "code",
   "execution_count": 24,
   "metadata": {
    "scrolled": true
   },
   "outputs": [
    {
     "data": {
      "text/html": [
       "<div>\n",
       "<style scoped>\n",
       "    .dataframe tbody tr th:only-of-type {\n",
       "        vertical-align: middle;\n",
       "    }\n",
       "\n",
       "    .dataframe tbody tr th {\n",
       "        vertical-align: top;\n",
       "    }\n",
       "\n",
       "    .dataframe thead th {\n",
       "        text-align: right;\n",
       "    }\n",
       "</style>\n",
       "<table border=\"1\" class=\"dataframe\">\n",
       "  <thead>\n",
       "    <tr style=\"text-align: right;\">\n",
       "      <th></th>\n",
       "      <th>component_1</th>\n",
       "      <th>component_2</th>\n",
       "    </tr>\n",
       "  </thead>\n",
       "  <tbody>\n",
       "    <tr>\n",
       "      <td>cool</td>\n",
       "      <td>5.8796</td>\n",
       "      <td>-0.5832</td>\n",
       "    </tr>\n",
       "    <tr>\n",
       "      <td>data</td>\n",
       "      <td>5.3923</td>\n",
       "      <td>-1.6980</td>\n",
       "    </tr>\n",
       "    <tr>\n",
       "      <td>football</td>\n",
       "      <td>6.0428</td>\n",
       "      <td>2.7126</td>\n",
       "    </tr>\n",
       "    <tr>\n",
       "      <td>fun</td>\n",
       "      <td>5.7898</td>\n",
       "      <td>-1.6747</td>\n",
       "    </tr>\n",
       "    <tr>\n",
       "      <td>great</td>\n",
       "      <td>5.7836</td>\n",
       "      <td>1.1897</td>\n",
       "    </tr>\n",
       "    <tr>\n",
       "      <td>learning</td>\n",
       "      <td>5.6542</td>\n",
       "      <td>-0.4225</td>\n",
       "    </tr>\n",
       "    <tr>\n",
       "      <td>like</td>\n",
       "      <td>5.5138</td>\n",
       "      <td>2.0473</td>\n",
       "    </tr>\n",
       "    <tr>\n",
       "      <td>machine</td>\n",
       "      <td>5.6542</td>\n",
       "      <td>-0.4225</td>\n",
       "    </tr>\n",
       "    <tr>\n",
       "      <td>python</td>\n",
       "      <td>5.6234</td>\n",
       "      <td>-0.2084</td>\n",
       "    </tr>\n",
       "    <tr>\n",
       "      <td>science</td>\n",
       "      <td>5.3923</td>\n",
       "      <td>-1.6980</td>\n",
       "    </tr>\n",
       "    <tr>\n",
       "      <td>statistics</td>\n",
       "      <td>5.5098</td>\n",
       "      <td>-0.4720</td>\n",
       "    </tr>\n",
       "    <tr>\n",
       "      <td>super</td>\n",
       "      <td>5.5737</td>\n",
       "      <td>-0.5976</td>\n",
       "    </tr>\n",
       "    <tr>\n",
       "      <td>watch</td>\n",
       "      <td>5.3689</td>\n",
       "      <td>1.6312</td>\n",
       "    </tr>\n",
       "  </tbody>\n",
       "</table>\n",
       "</div>"
      ],
      "text/plain": [
       "            component_1  component_2\n",
       "cool             5.8796      -0.5832\n",
       "data             5.3923      -1.6980\n",
       "football         6.0428       2.7126\n",
       "fun              5.7898      -1.6747\n",
       "great            5.7836       1.1897\n",
       "learning         5.6542      -0.4225\n",
       "like             5.5138       2.0473\n",
       "machine          5.6542      -0.4225\n",
       "python           5.6234      -0.2084\n",
       "science          5.3923      -1.6980\n",
       "statistics       5.5098      -0.4720\n",
       "super            5.5737      -0.5976\n",
       "watch            5.3689       1.6312"
      ]
     },
     "execution_count": 24,
     "metadata": {},
     "output_type": "execute_result"
    }
   ],
   "source": [
    "pd.DataFrame(dtm_lsa, index = vectorizer.get_feature_names(), columns = [\"component_\" + str(i) for i in range(1,lsa.n_components+1,1)])"
   ]
  },
  {
   "cell_type": "code",
   "execution_count": 25,
   "metadata": {},
   "outputs": [],
   "source": [
    "components = np.transpose(dtm_lsa)\n",
    "#components = sklearn.preprocessing.normalize(components, axis=0, norm='l2')"
   ]
  },
  {
   "cell_type": "code",
   "execution_count": 26,
   "metadata": {},
   "outputs": [],
   "source": [
    "Vxs = [w for w in components[0]]\n",
    "Vys = [w for w in components[1]]"
   ]
  },
  {
   "cell_type": "code",
   "execution_count": 27,
   "metadata": {
    "scrolled": true
   },
   "outputs": [
    {
     "data": {
      "image/png": "[encoded data removed]",
      "text/plain": [
       "<Figure size 432x288 with 1 Axes>"
      ]
     },
     "metadata": {
      "needs_background": "light"
     },
     "output_type": "display_data"
    },
    {
     "name": "stdout",
     "output_type": "stream",
     "text": [
      "[(0, 'cool'), (1, 'data'), (2, 'football'), (3, 'fun'), (4, 'great'), (5, 'learning'), (6, 'like'), (7, 'machine'), (8, 'python'), (9, 'science'), (10, 'statistics'), (11, 'super'), (12, 'watch')]\n"
     ]
    }
   ],
   "source": [
    "plt.figure()\n",
    "ax = plt.gca()\n",
    "for pos, vec in enumerate(list(zip(Vxs, Vys))[:]):\n",
    "    ax.scatter(vec[0],vec[1])\n",
    "    ax.text(vec[0],vec[1],s=vectorizer.get_feature_names()[pos])\n",
    "plt.xlabel('First principal component')\n",
    "plt.ylabel('Second principal component')\n",
    "plt.title('Plot of Words against LSA principal components')\n",
    "plt.show()\n",
    "print(list(enumerate(vectorizer.get_feature_names())))"
   ]
  },
  {
   "cell_type": "code",
   "execution_count": 28,
   "metadata": {},
   "outputs": [
    {
     "data": {
      "image/png": "[encoded data removed]",
      "text/plain": [
       "<Figure size 432x288 with 1 Axes>"
      ]
     },
     "metadata": {
      "needs_background": "light"
     },
     "output_type": "display_data"
    },
    {
     "name": "stdout",
     "output_type": "stream",
     "text": [
      "[(0, 'cool'), (1, 'data'), (2, 'football'), (3, 'fun'), (4, 'great'), (5, 'learning'), (6, 'like'), (7, 'machine'), (8, 'python'), (9, 'science'), (10, 'statistics'), (11, 'super'), (12, 'watch')]\n"
     ]
    }
   ],
   "source": [
    "plt.figure()\n",
    "ax = plt.gca()\n",
    "for pos, vec in enumerate(list(zip(Vxs, Vys))[:]):\n",
    "    ax.quiver(0,0,vec[0],vec[1],angles='xy',scale_units='xy',scale=1, linewidth = .01, norm=True)\n",
    "    ax.text(vec[0],vec[1],s=vectorizer.get_feature_names()[pos])\n",
    "ax.set_xlim([-.5,1.5])\n",
    "ax.set_ylim([-.5,2])\n",
    "plt.xlabel('First principal component')\n",
    "plt.ylabel('Second principal component')\n",
    "plt.title('Plot of points against LSA principal components')\n",
    "plt.draw()\n",
    "plt.show()\n",
    "print(list(enumerate(vectorizer.get_feature_names())))"
   ]
  },
  {
   "cell_type": "code",
   "execution_count": 29,
   "metadata": {},
   "outputs": [
    {
     "data": {
      "text/html": [
       "<div>\n",
       "<style scoped>\n",
       "    .dataframe tbody tr th:only-of-type {\n",
       "        vertical-align: middle;\n",
       "    }\n",
       "\n",
       "    .dataframe tbody tr th {\n",
       "        vertical-align: top;\n",
       "    }\n",
       "\n",
       "    .dataframe thead th {\n",
       "        text-align: right;\n",
       "    }\n",
       "</style>\n",
       "<table border=\"1\" class=\"dataframe\">\n",
       "  <thead>\n",
       "    <tr style=\"text-align: right;\">\n",
       "      <th></th>\n",
       "      <th>Machine learning is super fun</th>\n",
       "      <th>Python is super super cool</th>\n",
       "      <th>Statistics is cool too</th>\n",
       "      <th>Python is great for machine learning</th>\n",
       "      <th>Data science is fun</th>\n",
       "      <th>I like football</th>\n",
       "      <th>Football is great to watch</th>\n",
       "    </tr>\n",
       "  </thead>\n",
       "  <tbody>\n",
       "    <tr>\n",
       "      <td>component_1</td>\n",
       "      <td>0.3806</td>\n",
       "      <td>0.3644</td>\n",
       "      <td>0.3676</td>\n",
       "      <td>0.3863</td>\n",
       "      <td>0.3924</td>\n",
       "      <td>0.3687</td>\n",
       "      <td>0.3848</td>\n",
       "    </tr>\n",
       "    <tr>\n",
       "      <td>component_2</td>\n",
       "      <td>-0.2357</td>\n",
       "      <td>-0.1234</td>\n",
       "      <td>-0.1402</td>\n",
       "      <td>-0.0020</td>\n",
       "      <td>-0.5651</td>\n",
       "      <td>0.5625</td>\n",
       "      <td>0.5232</td>\n",
       "    </tr>\n",
       "  </tbody>\n",
       "</table>\n",
       "</div>"
      ],
      "text/plain": [
       "             Machine learning is super fun  Python is super super cool  \\\n",
       "component_1                         0.3806                      0.3644   \n",
       "component_2                        -0.2357                     -0.1234   \n",
       "\n",
       "             Statistics is cool too  Python is great for machine learning  \\\n",
       "component_1                  0.3676                                0.3863   \n",
       "component_2                 -0.1402                               -0.0020   \n",
       "\n",
       "             Data science is fun  I like football  Football is great to watch  \n",
       "component_1               0.3924           0.3687                      0.3848  \n",
       "component_2              -0.5651           0.5625                      0.5232  "
      ]
     },
     "execution_count": 29,
     "metadata": {},
     "output_type": "execute_result"
    }
   ],
   "source": [
    "pd.DataFrame(lsa.components_, columns = example, index = [\"component_\" + str(i) for i in range(1,lsa.n_components+1,1)])"
   ]
  },
  {
   "cell_type": "code",
   "execution_count": 30,
   "metadata": {},
   "outputs": [],
   "source": [
    "components = np.transpose(lsa.components_)\n",
    "components = sklearn.preprocessing.normalize(components, axis=1, norm='l2')"
   ]
  },
  {
   "cell_type": "code",
   "execution_count": 31,
   "metadata": {},
   "outputs": [],
   "source": [
    "xs = [w[0] for w in components]\n",
    "ys = [w[1] for w in components]\n",
    "xs, ys;"
   ]
  },
  {
   "cell_type": "code",
   "execution_count": 32,
   "metadata": {},
   "outputs": [
    {
     "data": {
      "image/png": "[encoded data removed]",
      "text/plain": [
       "<Figure size 432x288 with 1 Axes>"
      ]
     },
     "metadata": {
      "needs_background": "light"
     },
     "output_type": "display_data"
    },
    {
     "name": "stdout",
     "output_type": "stream",
     "text": [
      "[(0, 'Machine learning is super fun'), (1, 'Python is super super cool'), (2, 'Statistics is cool too'), (3, 'Python is great for machine learning'), (4, 'Data science is fun'), (5, 'I like football'), (6, 'Football is great to watch')]\n"
     ]
    }
   ],
   "source": [
    "plt.figure()\n",
    "ax = plt.gca()\n",
    "for pos, vec in enumerate(list(zip(xs, ys))[:]):\n",
    "    ax.scatter(vec[0],vec[1])\n",
    "    ax.text(vec[0],vec[1],s=pos)\n",
    "plt.xlabel('First principal component')\n",
    "plt.ylabel('Second principal component')\n",
    "plt.title('Plot of Documents against LSA principal components')\n",
    "plt.show()\n",
    "print(list(enumerate(example)))"
   ]
  },
  {
   "cell_type": "code",
   "execution_count": 33,
   "metadata": {},
   "outputs": [
    {
     "data": {
      "image/png": "[encoded data removed]",
      "text/plain": [
       "<Figure size 432x288 with 1 Axes>"
      ]
     },
     "metadata": {
      "needs_background": "light"
     },
     "output_type": "display_data"
    },
    {
     "name": "stdout",
     "output_type": "stream",
     "text": [
      "[(0, 'Machine learning is super fun'), (1, 'Python is super super cool'), (2, 'Statistics is cool too'), (3, 'Python is great for machine learning'), (4, 'Data science is fun'), (5, 'I like football'), (6, 'Football is great to watch')]\n"
     ]
    }
   ],
   "source": [
    "plt.figure()\n",
    "ax = plt.gca()\n",
    "for pos, vec in enumerate(list(zip(xs, ys))[:]):\n",
    "    ax.quiver(0,0,vec[0],vec[1],angles='xy',scale_units='xy',scale=1, linewidth = .01)\n",
    "    ax.text(vec[0],vec[1],s=pos)\n",
    "ax.set_xlim([-2,2])\n",
    "ax.set_ylim([-2,2])\n",
    "plt.xlabel('First principal component')\n",
    "plt.ylabel('Second principal component')\n",
    "plt.title('Plot of points against LSA principal components')\n",
    "plt.draw()\n",
    "plt.show()\n",
    "print(list(enumerate(example)))"
   ]
  },
  {
   "cell_type": "code",
   "execution_count": 34,
   "metadata": {},
   "outputs": [
    {
     "data": {
      "text/html": [
       "<div>\n",
       "<style scoped>\n",
       "    .dataframe tbody tr th:only-of-type {\n",
       "        vertical-align: middle;\n",
       "    }\n",
       "\n",
       "    .dataframe tbody tr th {\n",
       "        vertical-align: top;\n",
       "    }\n",
       "\n",
       "    .dataframe thead th {\n",
       "        text-align: right;\n",
       "    }\n",
       "</style>\n",
       "<table border=\"1\" class=\"dataframe\">\n",
       "  <thead>\n",
       "    <tr style=\"text-align: right;\">\n",
       "      <th></th>\n",
       "      <th>Machine learning is super fun</th>\n",
       "      <th>Python is super super cool</th>\n",
       "      <th>Statistics is cool too</th>\n",
       "      <th>Python is great for machine learning</th>\n",
       "      <th>Data science is fun</th>\n",
       "      <th>I like football</th>\n",
       "      <th>Football is great to watch</th>\n",
       "    </tr>\n",
       "  </thead>\n",
       "  <tbody>\n",
       "    <tr>\n",
       "      <td>Machine learning is super fun</td>\n",
       "      <td>1.0000</td>\n",
       "      <td>0.9741</td>\n",
       "      <td>0.9820</td>\n",
       "      <td>0.8529</td>\n",
       "      <td>0.9173</td>\n",
       "      <td>0.0258</td>\n",
       "      <td>0.0796</td>\n",
       "    </tr>\n",
       "    <tr>\n",
       "      <td>Python is super super cool</td>\n",
       "      <td>0.9741</td>\n",
       "      <td>1.0000</td>\n",
       "      <td>0.9993</td>\n",
       "      <td>0.9488</td>\n",
       "      <td>0.8036</td>\n",
       "      <td>0.2511</td>\n",
       "      <td>0.3028</td>\n",
       "    </tr>\n",
       "    <tr>\n",
       "      <td>Statistics is cool too</td>\n",
       "      <td>0.9820</td>\n",
       "      <td>0.9993</td>\n",
       "      <td>1.0000</td>\n",
       "      <td>0.9362</td>\n",
       "      <td>0.8256</td>\n",
       "      <td>0.2142</td>\n",
       "      <td>0.2665</td>\n",
       "    </tr>\n",
       "    <tr>\n",
       "      <td>Python is great for machine learning</td>\n",
       "      <td>0.8529</td>\n",
       "      <td>0.9488</td>\n",
       "      <td>0.9362</td>\n",
       "      <td>1.0000</td>\n",
       "      <td>0.5746</td>\n",
       "      <td>0.5439</td>\n",
       "      <td>0.5883</td>\n",
       "    </tr>\n",
       "    <tr>\n",
       "      <td>Data science is fun</td>\n",
       "      <td>0.9173</td>\n",
       "      <td>0.8036</td>\n",
       "      <td>0.8256</td>\n",
       "      <td>0.5746</td>\n",
       "      <td>1.0000</td>\n",
       "      <td>-0.3743</td>\n",
       "      <td>-0.3238</td>\n",
       "    </tr>\n",
       "    <tr>\n",
       "      <td>I like football</td>\n",
       "      <td>0.0258</td>\n",
       "      <td>0.2511</td>\n",
       "      <td>0.2142</td>\n",
       "      <td>0.5439</td>\n",
       "      <td>-0.3743</td>\n",
       "      <td>1.0000</td>\n",
       "      <td>0.9985</td>\n",
       "    </tr>\n",
       "    <tr>\n",
       "      <td>Football is great to watch</td>\n",
       "      <td>0.0796</td>\n",
       "      <td>0.3028</td>\n",
       "      <td>0.2665</td>\n",
       "      <td>0.5883</td>\n",
       "      <td>-0.3238</td>\n",
       "      <td>0.9985</td>\n",
       "      <td>1.0000</td>\n",
       "    </tr>\n",
       "  </tbody>\n",
       "</table>\n",
       "</div>"
      ],
      "text/plain": [
       "                                      Machine learning is super fun  \\\n",
       "Machine learning is super fun                                1.0000   \n",
       "Python is super super cool                                   0.9741   \n",
       "Statistics is cool too                                       0.9820   \n",
       "Python is great for machine learning                         0.8529   \n",
       "Data science is fun                                          0.9173   \n",
       "I like football                                              0.0258   \n",
       "Football is great to watch                                   0.0796   \n",
       "\n",
       "                                      Python is super super cool  \\\n",
       "Machine learning is super fun                             0.9741   \n",
       "Python is super super cool                                1.0000   \n",
       "Statistics is cool too                                    0.9993   \n",
       "Python is great for machine learning                      0.9488   \n",
       "Data science is fun                                       0.8036   \n",
       "I like football                                           0.2511   \n",
       "Football is great to watch                                0.3028   \n",
       "\n",
       "                                      Statistics is cool too  \\\n",
       "Machine learning is super fun                         0.9820   \n",
       "Python is super super cool                            0.9993   \n",
       "Statistics is cool too                                1.0000   \n",
       "Python is great for machine learning                  0.9362   \n",
       "Data science is fun                                   0.8256   \n",
       "I like football                                       0.2142   \n",
       "Football is great to watch                            0.2665   \n",
       "\n",
       "                                      Python is great for machine learning  \\\n",
       "Machine learning is super fun                                       0.8529   \n",
       "Python is super super cool                                          0.9488   \n",
       "Statistics is cool too                                              0.9362   \n",
       "Python is great for machine learning                                1.0000   \n",
       "Data science is fun                                                 0.5746   \n",
       "I like football                                                     0.5439   \n",
       "Football is great to watch                                          0.5883   \n",
       "\n",
       "                                      Data science is fun  I like football  \\\n",
       "Machine learning is super fun                      0.9173           0.0258   \n",
       "Python is super super cool                         0.8036           0.2511   \n",
       "Statistics is cool too                             0.8256           0.2142   \n",
       "Python is great for machine learning               0.5746           0.5439   \n",
       "Data science is fun                                1.0000          -0.3743   \n",
       "I like football                                   -0.3743           1.0000   \n",
       "Football is great to watch                        -0.3238           0.9985   \n",
       "\n",
       "                                      Football is great to watch  \n",
       "Machine learning is super fun                             0.0796  \n",
       "Python is super super cool                                0.3028  \n",
       "Statistics is cool too                                    0.2665  \n",
       "Python is great for machine learning                      0.5883  \n",
       "Data science is fun                                      -0.3238  \n",
       "I like football                                           0.9985  \n",
       "Football is great to watch                                1.0000  "
      ]
     },
     "execution_count": 34,
     "metadata": {},
     "output_type": "execute_result"
    }
   ],
   "source": [
    "#Compute document similarity using LSA components\n",
    "similarity = np.asarray(np.asmatrix(components) * np.asmatrix(components).T)\n",
    "pd.DataFrame(similarity,index=example, columns=example)"
   ]
  },
  {
   "cell_type": "code",
   "execution_count": null,
   "metadata": {},
   "outputs": [],
   "source": []
  },
  {
   "cell_type": "code",
   "execution_count": null,
   "metadata": {},
   "outputs": [],
   "source": []
  },
  {
   "cell_type": "code",
   "execution_count": null,
   "metadata": {},
   "outputs": [],
   "source": []
  },
  {
   "cell_type": "code",
   "execution_count": 85,
   "metadata": {},
   "outputs": [],
   "source": [
    "out = create_dtm_pmi_matrix(create_dtm_pmi_matrix(M.toarray().T) @ create_dtm_pmi_matrix(dtm.toarray().T))"
   ]
  },
  {
   "cell_type": "code",
   "execution_count": 86,
   "metadata": {},
   "outputs": [],
   "source": [
    "# Fit LSA. Use algorithm = “randomized” for large datasets\n",
    "lsa = TruncatedSVD(2, algorithm='arpack')\n",
    "dtm_lsa = lsa.fit_transform(create_dtm_pmi_matrix(dtm.toarray().T))"
   ]
  },
  {
   "cell_type": "code",
   "execution_count": 87,
   "metadata": {
    "scrolled": true
   },
   "outputs": [
    {
     "data": {
      "text/html": [
       "<div>\n",
       "<style scoped>\n",
       "    .dataframe tbody tr th:only-of-type {\n",
       "        vertical-align: middle;\n",
       "    }\n",
       "\n",
       "    .dataframe tbody tr th {\n",
       "        vertical-align: top;\n",
       "    }\n",
       "\n",
       "    .dataframe thead th {\n",
       "        text-align: right;\n",
       "    }\n",
       "</style>\n",
       "<table border=\"1\" class=\"dataframe\">\n",
       "  <thead>\n",
       "    <tr style=\"text-align: right;\">\n",
       "      <th></th>\n",
       "      <th>component_1</th>\n",
       "      <th>component_2</th>\n",
       "    </tr>\n",
       "  </thead>\n",
       "  <tbody>\n",
       "    <tr>\n",
       "      <td>cool</td>\n",
       "      <td>5.8796</td>\n",
       "      <td>-0.5832</td>\n",
       "    </tr>\n",
       "    <tr>\n",
       "      <td>data</td>\n",
       "      <td>5.3923</td>\n",
       "      <td>-1.6980</td>\n",
       "    </tr>\n",
       "    <tr>\n",
       "      <td>football</td>\n",
       "      <td>6.0428</td>\n",
       "      <td>2.7126</td>\n",
       "    </tr>\n",
       "    <tr>\n",
       "      <td>fun</td>\n",
       "      <td>5.7898</td>\n",
       "      <td>-1.6747</td>\n",
       "    </tr>\n",
       "    <tr>\n",
       "      <td>great</td>\n",
       "      <td>5.7836</td>\n",
       "      <td>1.1897</td>\n",
       "    </tr>\n",
       "    <tr>\n",
       "      <td>learning</td>\n",
       "      <td>5.6542</td>\n",
       "      <td>-0.4225</td>\n",
       "    </tr>\n",
       "    <tr>\n",
       "      <td>like</td>\n",
       "      <td>5.5138</td>\n",
       "      <td>2.0473</td>\n",
       "    </tr>\n",
       "    <tr>\n",
       "      <td>machine</td>\n",
       "      <td>5.6542</td>\n",
       "      <td>-0.4225</td>\n",
       "    </tr>\n",
       "    <tr>\n",
       "      <td>python</td>\n",
       "      <td>5.6234</td>\n",
       "      <td>-0.2084</td>\n",
       "    </tr>\n",
       "    <tr>\n",
       "      <td>science</td>\n",
       "      <td>5.3923</td>\n",
       "      <td>-1.6980</td>\n",
       "    </tr>\n",
       "    <tr>\n",
       "      <td>statistics</td>\n",
       "      <td>5.5098</td>\n",
       "      <td>-0.4720</td>\n",
       "    </tr>\n",
       "    <tr>\n",
       "      <td>super</td>\n",
       "      <td>5.5737</td>\n",
       "      <td>-0.5976</td>\n",
       "    </tr>\n",
       "    <tr>\n",
       "      <td>watch</td>\n",
       "      <td>5.3689</td>\n",
       "      <td>1.6312</td>\n",
       "    </tr>\n",
       "  </tbody>\n",
       "</table>\n",
       "</div>"
      ],
      "text/plain": [
       "            component_1  component_2\n",
       "cool             5.8796      -0.5832\n",
       "data             5.3923      -1.6980\n",
       "football         6.0428       2.7126\n",
       "fun              5.7898      -1.6747\n",
       "great            5.7836       1.1897\n",
       "learning         5.6542      -0.4225\n",
       "like             5.5138       2.0473\n",
       "machine          5.6542      -0.4225\n",
       "python           5.6234      -0.2084\n",
       "science          5.3923      -1.6980\n",
       "statistics       5.5098      -0.4720\n",
       "super            5.5737      -0.5976\n",
       "watch            5.3689       1.6312"
      ]
     },
     "execution_count": 87,
     "metadata": {},
     "output_type": "execute_result"
    }
   ],
   "source": [
    "pd.DataFrame(dtm_lsa, index = vectorizer.get_feature_names(), columns = [\"component_\" + str(i) for i in range(1,lsa.n_components+1,1)])"
   ]
  },
  {
   "cell_type": "code",
   "execution_count": 88,
   "metadata": {},
   "outputs": [],
   "source": [
    "components = np.transpose(dtm_lsa)\n",
    "#components = sklearn.preprocessing.normalize(components, axis=0, norm='l2')"
   ]
  },
  {
   "cell_type": "code",
   "execution_count": 89,
   "metadata": {},
   "outputs": [],
   "source": [
    "Vxs = [w for w in components[0]]\n",
    "Vys = [w for w in components[1]]"
   ]
  },
  {
   "cell_type": "code",
   "execution_count": 90,
   "metadata": {
    "scrolled": true
   },
   "outputs": [
    {
     "data": {
      "image/png": "[encoded data removed]",
      "text/plain": [
       "<Figure size 432x288 with 1 Axes>"
      ]
     },
     "metadata": {
      "needs_background": "light"
     },
     "output_type": "display_data"
    },
    {
     "name": "stdout",
     "output_type": "stream",
     "text": [
      "[(0, 'cool'), (1, 'data'), (2, 'football'), (3, 'fun'), (4, 'great'), (5, 'learning'), (6, 'like'), (7, 'machine'), (8, 'python'), (9, 'science'), (10, 'statistics'), (11, 'super'), (12, 'watch')]\n"
     ]
    }
   ],
   "source": [
    "plt.figure()\n",
    "ax = plt.gca()\n",
    "for pos, vec in enumerate(list(zip(Vxs, Vys))[:]):\n",
    "    ax.scatter(vec[0],vec[1])\n",
    "    ax.text(vec[0],vec[1],s=vectorizer.get_feature_names()[pos])\n",
    "plt.xlabel('First principal component')\n",
    "plt.ylabel('Second principal component')\n",
    "plt.title('Plot of Words against LSA principal components')\n",
    "plt.show()\n",
    "print(list(enumerate(vectorizer.get_feature_names())))"
   ]
  },
  {
   "cell_type": "code",
   "execution_count": 91,
   "metadata": {},
   "outputs": [
    {
     "data": {
      "image/png": "[encoded data removed]",
      "text/plain": [
       "<Figure size 432x288 with 1 Axes>"
      ]
     },
     "metadata": {
      "needs_background": "light"
     },
     "output_type": "display_data"
    },
    {
     "name": "stdout",
     "output_type": "stream",
     "text": [
      "[(0, 'cool'), (1, 'data'), (2, 'football'), (3, 'fun'), (4, 'great'), (5, 'learning'), (6, 'like'), (7, 'machine'), (8, 'python'), (9, 'science'), (10, 'statistics'), (11, 'super'), (12, 'watch')]\n"
     ]
    }
   ],
   "source": [
    "plt.figure()\n",
    "ax = plt.gca()\n",
    "for pos, vec in enumerate(list(zip(Vxs, Vys))[:]):\n",
    "    ax.quiver(0,0,vec[0],vec[1],angles='xy',scale_units='xy',scale=1, linewidth = .01, norm=True)\n",
    "    ax.text(vec[0],vec[1],s=vectorizer.get_feature_names()[pos])\n",
    "ax.set_xlim([-.5,1.5])\n",
    "ax.set_ylim([-.5,2])\n",
    "plt.xlabel('First principal component')\n",
    "plt.ylabel('Second principal component')\n",
    "plt.title('Plot of points against LSA principal components')\n",
    "plt.draw()\n",
    "plt.show()\n",
    "print(list(enumerate(vectorizer.get_feature_names())))"
   ]
  },
  {
   "cell_type": "code",
   "execution_count": 92,
   "metadata": {},
   "outputs": [
    {
     "data": {
      "text/html": [
       "<div>\n",
       "<style scoped>\n",
       "    .dataframe tbody tr th:only-of-type {\n",
       "        vertical-align: middle;\n",
       "    }\n",
       "\n",
       "    .dataframe tbody tr th {\n",
       "        vertical-align: top;\n",
       "    }\n",
       "\n",
       "    .dataframe thead th {\n",
       "        text-align: right;\n",
       "    }\n",
       "</style>\n",
       "<table border=\"1\" class=\"dataframe\">\n",
       "  <thead>\n",
       "    <tr style=\"text-align: right;\">\n",
       "      <th></th>\n",
       "      <th>Machine learning is super fun</th>\n",
       "      <th>Python is super super cool</th>\n",
       "      <th>Statistics is cool too</th>\n",
       "      <th>Python is great for machine learning</th>\n",
       "      <th>Data science is fun</th>\n",
       "      <th>I like football</th>\n",
       "      <th>Football is great to watch</th>\n",
       "    </tr>\n",
       "  </thead>\n",
       "  <tbody>\n",
       "    <tr>\n",
       "      <td>component_1</td>\n",
       "      <td>0.3806</td>\n",
       "      <td>0.3644</td>\n",
       "      <td>0.3676</td>\n",
       "      <td>0.3863</td>\n",
       "      <td>0.3924</td>\n",
       "      <td>0.3687</td>\n",
       "      <td>0.3848</td>\n",
       "    </tr>\n",
       "    <tr>\n",
       "      <td>component_2</td>\n",
       "      <td>-0.2357</td>\n",
       "      <td>-0.1234</td>\n",
       "      <td>-0.1402</td>\n",
       "      <td>-0.0020</td>\n",
       "      <td>-0.5651</td>\n",
       "      <td>0.5625</td>\n",
       "      <td>0.5232</td>\n",
       "    </tr>\n",
       "  </tbody>\n",
       "</table>\n",
       "</div>"
      ],
      "text/plain": [
       "             Machine learning is super fun  Python is super super cool  \\\n",
       "component_1                         0.3806                      0.3644   \n",
       "component_2                        -0.2357                     -0.1234   \n",
       "\n",
       "             Statistics is cool too  Python is great for machine learning  \\\n",
       "component_1                  0.3676                                0.3863   \n",
       "component_2                 -0.1402                               -0.0020   \n",
       "\n",
       "             Data science is fun  I like football  Football is great to watch  \n",
       "component_1               0.3924           0.3687                      0.3848  \n",
       "component_2              -0.5651           0.5625                      0.5232  "
      ]
     },
     "execution_count": 92,
     "metadata": {},
     "output_type": "execute_result"
    }
   ],
   "source": [
    "pd.DataFrame(lsa.components_, columns = example, index = [\"component_\" + str(i) for i in range(1,lsa.n_components+1,1)])"
   ]
  },
  {
   "cell_type": "code",
   "execution_count": 93,
   "metadata": {},
   "outputs": [],
   "source": [
    "components = np.transpose(lsa.components_)\n",
    "components = sklearn.preprocessing.normalize(components, axis=1, norm='l2')"
   ]
  },
  {
   "cell_type": "code",
   "execution_count": 94,
   "metadata": {},
   "outputs": [],
   "source": [
    "xs = [w[0] for w in components]\n",
    "ys = [w[1] for w in components]\n",
    "xs, ys;"
   ]
  },
  {
   "cell_type": "code",
   "execution_count": 95,
   "metadata": {},
   "outputs": [
    {
     "data": {
      "image/png": "[encoded data removed]",
      "text/plain": [
       "<Figure size 432x288 with 1 Axes>"
      ]
     },
     "metadata": {
      "needs_background": "light"
     },
     "output_type": "display_data"
    },
    {
     "name": "stdout",
     "output_type": "stream",
     "text": [
      "[(0, 'Machine learning is super fun'), (1, 'Python is super super cool'), (2, 'Statistics is cool too'), (3, 'Python is great for machine learning'), (4, 'Data science is fun'), (5, 'I like football'), (6, 'Football is great to watch')]\n"
     ]
    }
   ],
   "source": [
    "plt.figure()\n",
    "ax = plt.gca()\n",
    "for pos, vec in enumerate(list(zip(xs, ys))[:]):\n",
    "    ax.scatter(vec[0],vec[1])\n",
    "    ax.text(vec[0],vec[1],s=pos)\n",
    "plt.xlabel('First principal component')\n",
    "plt.ylabel('Second principal component')\n",
    "plt.title('Plot of Documents against LSA principal components')\n",
    "plt.show()\n",
    "print(list(enumerate(example)))"
   ]
  },
  {
   "cell_type": "code",
   "execution_count": 96,
   "metadata": {},
   "outputs": [
    {
     "data": {
      "image/png": "[encoded data removed]",
      "text/plain": [
       "<Figure size 432x288 with 1 Axes>"
      ]
     },
     "metadata": {
      "needs_background": "light"
     },
     "output_type": "display_data"
    },
    {
     "name": "stdout",
     "output_type": "stream",
     "text": [
      "[(0, 'Machine learning is super fun'), (1, 'Python is super super cool'), (2, 'Statistics is cool too'), (3, 'Python is great for machine learning'), (4, 'Data science is fun'), (5, 'I like football'), (6, 'Football is great to watch')]\n"
     ]
    }
   ],
   "source": [
    "plt.figure()\n",
    "ax = plt.gca()\n",
    "for pos, vec in enumerate(list(zip(xs, ys))[:]):\n",
    "    ax.quiver(0,0,vec[0],vec[1],angles='xy',scale_units='xy',scale=1, linewidth = .01)\n",
    "    ax.text(vec[0],vec[1],s=pos)\n",
    "ax.set_xlim([-2,2])\n",
    "ax.set_ylim([-2,2])\n",
    "plt.xlabel('First principal component')\n",
    "plt.ylabel('Second principal component')\n",
    "plt.title('Plot of points against LSA principal components')\n",
    "plt.draw()\n",
    "plt.show()\n",
    "print(list(enumerate(example)))"
   ]
  },
  {
   "cell_type": "code",
   "execution_count": 97,
   "metadata": {},
   "outputs": [
    {
     "data": {
      "text/html": [
       "<div>\n",
       "<style scoped>\n",
       "    .dataframe tbody tr th:only-of-type {\n",
       "        vertical-align: middle;\n",
       "    }\n",
       "\n",
       "    .dataframe tbody tr th {\n",
       "        vertical-align: top;\n",
       "    }\n",
       "\n",
       "    .dataframe thead th {\n",
       "        text-align: right;\n",
       "    }\n",
       "</style>\n",
       "<table border=\"1\" class=\"dataframe\">\n",
       "  <thead>\n",
       "    <tr style=\"text-align: right;\">\n",
       "      <th></th>\n",
       "      <th>Machine learning is super fun</th>\n",
       "      <th>Python is super super cool</th>\n",
       "      <th>Statistics is cool too</th>\n",
       "      <th>Python is great for machine learning</th>\n",
       "      <th>Data science is fun</th>\n",
       "      <th>I like football</th>\n",
       "      <th>Football is great to watch</th>\n",
       "    </tr>\n",
       "  </thead>\n",
       "  <tbody>\n",
       "    <tr>\n",
       "      <td>Machine learning is super fun</td>\n",
       "      <td>1.0000</td>\n",
       "      <td>0.9741</td>\n",
       "      <td>0.9820</td>\n",
       "      <td>0.8529</td>\n",
       "      <td>0.9173</td>\n",
       "      <td>0.0258</td>\n",
       "      <td>0.0796</td>\n",
       "    </tr>\n",
       "    <tr>\n",
       "      <td>Python is super super cool</td>\n",
       "      <td>0.9741</td>\n",
       "      <td>1.0000</td>\n",
       "      <td>0.9993</td>\n",
       "      <td>0.9488</td>\n",
       "      <td>0.8036</td>\n",
       "      <td>0.2511</td>\n",
       "      <td>0.3028</td>\n",
       "    </tr>\n",
       "    <tr>\n",
       "      <td>Statistics is cool too</td>\n",
       "      <td>0.9820</td>\n",
       "      <td>0.9993</td>\n",
       "      <td>1.0000</td>\n",
       "      <td>0.9362</td>\n",
       "      <td>0.8256</td>\n",
       "      <td>0.2142</td>\n",
       "      <td>0.2665</td>\n",
       "    </tr>\n",
       "    <tr>\n",
       "      <td>Python is great for machine learning</td>\n",
       "      <td>0.8529</td>\n",
       "      <td>0.9488</td>\n",
       "      <td>0.9362</td>\n",
       "      <td>1.0000</td>\n",
       "      <td>0.5746</td>\n",
       "      <td>0.5439</td>\n",
       "      <td>0.5883</td>\n",
       "    </tr>\n",
       "    <tr>\n",
       "      <td>Data science is fun</td>\n",
       "      <td>0.9173</td>\n",
       "      <td>0.8036</td>\n",
       "      <td>0.8256</td>\n",
       "      <td>0.5746</td>\n",
       "      <td>1.0000</td>\n",
       "      <td>-0.3743</td>\n",
       "      <td>-0.3238</td>\n",
       "    </tr>\n",
       "    <tr>\n",
       "      <td>I like football</td>\n",
       "      <td>0.0258</td>\n",
       "      <td>0.2511</td>\n",
       "      <td>0.2142</td>\n",
       "      <td>0.5439</td>\n",
       "      <td>-0.3743</td>\n",
       "      <td>1.0000</td>\n",
       "      <td>0.9985</td>\n",
       "    </tr>\n",
       "    <tr>\n",
       "      <td>Football is great to watch</td>\n",
       "      <td>0.0796</td>\n",
       "      <td>0.3028</td>\n",
       "      <td>0.2665</td>\n",
       "      <td>0.5883</td>\n",
       "      <td>-0.3238</td>\n",
       "      <td>0.9985</td>\n",
       "      <td>1.0000</td>\n",
       "    </tr>\n",
       "  </tbody>\n",
       "</table>\n",
       "</div>"
      ],
      "text/plain": [
       "                                      Machine learning is super fun  \\\n",
       "Machine learning is super fun                                1.0000   \n",
       "Python is super super cool                                   0.9741   \n",
       "Statistics is cool too                                       0.9820   \n",
       "Python is great for machine learning                         0.8529   \n",
       "Data science is fun                                          0.9173   \n",
       "I like football                                              0.0258   \n",
       "Football is great to watch                                   0.0796   \n",
       "\n",
       "                                      Python is super super cool  \\\n",
       "Machine learning is super fun                             0.9741   \n",
       "Python is super super cool                                1.0000   \n",
       "Statistics is cool too                                    0.9993   \n",
       "Python is great for machine learning                      0.9488   \n",
       "Data science is fun                                       0.8036   \n",
       "I like football                                           0.2511   \n",
       "Football is great to watch                                0.3028   \n",
       "\n",
       "                                      Statistics is cool too  \\\n",
       "Machine learning is super fun                         0.9820   \n",
       "Python is super super cool                            0.9993   \n",
       "Statistics is cool too                                1.0000   \n",
       "Python is great for machine learning                  0.9362   \n",
       "Data science is fun                                   0.8256   \n",
       "I like football                                       0.2142   \n",
       "Football is great to watch                            0.2665   \n",
       "\n",
       "                                      Python is great for machine learning  \\\n",
       "Machine learning is super fun                                       0.8529   \n",
       "Python is super super cool                                          0.9488   \n",
       "Statistics is cool too                                              0.9362   \n",
       "Python is great for machine learning                                1.0000   \n",
       "Data science is fun                                                 0.5746   \n",
       "I like football                                                     0.5439   \n",
       "Football is great to watch                                          0.5883   \n",
       "\n",
       "                                      Data science is fun  I like football  \\\n",
       "Machine learning is super fun                      0.9173           0.0258   \n",
       "Python is super super cool                         0.8036           0.2511   \n",
       "Statistics is cool too                             0.8256           0.2142   \n",
       "Python is great for machine learning               0.5746           0.5439   \n",
       "Data science is fun                                1.0000          -0.3743   \n",
       "I like football                                   -0.3743           1.0000   \n",
       "Football is great to watch                        -0.3238           0.9985   \n",
       "\n",
       "                                      Football is great to watch  \n",
       "Machine learning is super fun                             0.0796  \n",
       "Python is super super cool                                0.3028  \n",
       "Statistics is cool too                                    0.2665  \n",
       "Python is great for machine learning                      0.5883  \n",
       "Data science is fun                                      -0.3238  \n",
       "I like football                                           0.9985  \n",
       "Football is great to watch                                1.0000  "
      ]
     },
     "execution_count": 97,
     "metadata": {},
     "output_type": "execute_result"
    }
   ],
   "source": [
    "#Compute document similarity using LSA components\n",
    "similarity = np.asarray(np.asmatrix(components) * np.asmatrix(components).T)\n",
    "pd.DataFrame(similarity,index=example, columns=example)"
   ]
  },
  {
   "cell_type": "code",
   "execution_count": null,
   "metadata": {},
   "outputs": [],
   "source": []
  }
 ],
 "metadata": {
  "kernelspec": {
   "display_name": "Python 3",
   "language": "python",
   "name": "python3"
  },
  "language_info": {
   "codemirror_mode": {
    "name": "ipython",
    "version": 3
   },
   "file_extension": ".py",
   "mimetype": "text/x-python",
   "name": "python",
   "nbconvert_exporter": "python",
   "pygments_lexer": "ipython3",
   "version": "3.7.4"
  }
 },
 "nbformat": 4,
 "nbformat_minor": 4
}
